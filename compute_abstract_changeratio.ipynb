{
 "cells": [
  {
   "cell_type": "code",
   "execution_count": 2,
   "metadata": {},
   "outputs": [],
   "source": [
    "import pandas as pd\n",
    "\n",
    "# import a spreadsheeet containing all preprints and final abstracts pairs\n",
    "df = pd.read_csv(\"all_pairs - old.tsv\", sep='\\t')\n",
    "\n",
    "change_in_abst_length = {}\n",
    "\n",
    "page = 1\n",
    "\n",
    "for index, row in df.iterrows():\n",
    "    # we skip abstracts that are not included in the MS Word track changes\n",
    "    # this is becausee some final abstracts are not available\n",
    "    if row[\"exclude\"] != \"exclude\":\n",
    "        # removing all multiple whitespaces, line breaks, tabs\n",
    "        preprint_abstract = \" \".join(row[\"abstract\"].split())\n",
    "        final_abstract = \" \".join(row[\"published_pubmed_abstract\"].split())\n",
    "        len_preprint_abstract = len(preprint_abstract)\n",
    "        len_final_abstract = len(final_abstract)\n",
    "        # store the length of each abstract using the page number as an id\n",
    "        change_in_abst_length[page] = [len_preprint_abstract,len_final_abstract]\n",
    "        page+=1"
   ]
  },
  {
   "cell_type": "code",
   "execution_count": 3,
   "metadata": {},
   "outputs": [],
   "source": [
    "# open a .txt containing the extracted trackchanges from MS Word\n",
    "trackchange_doc = open(\"compared_abstracts_2020-07-14_v1_markup.txt\",'r').read().strip().split(\"\\n\")\n",
    "\n",
    "beginning_of_change = []\n",
    "changes_abs_match = {}\n",
    "\n",
    "# first we find the starting line of each change\n",
    "for e in range(len(trackchange_doc)):\n",
    "    element = trackchange_doc[e].strip()\n",
    "    # so if the element is equal to Page\n",
    "    if element == \"Page\":\n",
    "        #  and there is a number + : in the next line\n",
    "        number = trackchange_doc[e+1].strip()\n",
    "        # we can presume it's the beginning of a new change\n",
    "        if \":\" == number[-1] and number[:-1].isnumeric():\n",
    "            # so we append the id and to which page this id refers to\n",
    "            # removing the \":\" at the end of the line\n",
    "            beginning_of_change.append(e)\n",
    "            changes_abs_match[e] = number[:-1]"
   ]
  },
  {
   "cell_type": "code",
   "execution_count": 4,
   "metadata": {
    "tags": []
   },
   "outputs": [
    {
     "output_type": "stream",
     "name": "stdout",
     "text": "22 {'Inserted': 13, 'Deleted': 9, 'Moved': 0}\n"
    }
   ],
   "source": [
    "# we create two dictionaries where we set to 0 the change counter to each page\n",
    "abstract_changecount = {y:0 for x,y in changes_abs_match.items()}\n",
    "abstract_changetypes = {y:{'Inserted': 0, 'Deleted': 0, 'Moved': 0} for x,y in changes_abs_match.items()}\n",
    "\n",
    "# for each change, we know to which abstract (i.e., page) it belongs \n",
    "for c in range(len(beginning_of_change)):\n",
    "    change = beginning_of_change[c]\n",
    "    abstract_id = changes_abs_match[change]\n",
    "    # here we know where to stop, at the beginning of the next change (or at the end of the doc)\n",
    "    if c+1 < len(beginning_of_change):\n",
    "        nextchange = beginning_of_change[c+1]\n",
    "    else:\n",
    "        nextchange = len(beginning_of_change)\n",
    "    # change+8 is in order to skip all metadata and whitespacees, \n",
    "    #like hour, username etc that are always the same length\n",
    "    words = [trackchange_doc[x] for x in range(change+8,nextchange) if len(trackchange_doc[x])>0]\n",
    "    words = \" \".join(words).strip()\n",
    "\n",
    "    # this is the type of change (addition, deletion, move)\n",
    "    typechange = trackchange_doc[change+2].strip()\n",
    "    abstract_changetypes[abstract_id][typechange] +=len(words)\n",
    "\n",
    "    # we currently ignore moved from the overall count\n",
    "    if typechange != \"Moved\":\n",
    "        abstract_changecount[abstract_id]+=len(words)\n",
    "    \n",
    "# here an example\n",
    "print (abstract_changecount[\"180\"],abstract_changetypes[\"180\"])"
   ]
  },
  {
   "cell_type": "code",
   "execution_count": 5,
   "metadata": {
    "tags": []
   },
   "outputs": [
    {
     "output_type": "stream",
     "name": "stdout",
     "text": "0.04772727272727273\n0.030637870416875934\n0.10664479081214107\n0.512753433616743\n0\n0.020266357845975635\n0.04656862745098034\n0.24841695080370185\n0.12829629629629624\n0.28935905413814567\n0.22917251051893406\n0.26876640419947506\n0.2271944922547332\n0.3305613305613305\n0.10707803992740472\n0.2980608091932009\n0.007719298245614015\n0.034782608695652195\n0.5363321799307958\n0.11652493679613884\n0.07381889763779526\n0.022031823745410017\n0.06398104265402849\n0.7041800643086817\n0.02910052910052907\n0.2672750977835724\n0.00540175557056044\n0.09421551557361196\n0.07989821882951653\n0.1148479427549195\n0.015492253873063522\n0.09292763157894735\n0.05594405594405594\n0.1082728592162554\n0.04800000000000004\n0.06171574903969268\n0.009358914365933502\n0.08616780045351469\n0.611417450535193\n0.28120145002589336\n0.18175372252422595\n0.03956834532374098\n0.008409014463504838\n0.01520467836257311\n0.1953735542356987\n0.0727824109173616\n0.026622793897696728\n0.17517328292375556\n0.17018859350147697\n0.028449880350970513\n0.06621226874391428\n0\n0.04379232505643338\n0.020928116469517755\n0.0016694490818029983\n0.2882859379076441\n0.018094089264173663\n0.011825785982117143\n0.3057080131723381\n0.008042895442359255\n0.022499999999999964\n0.3924386469157639\n0.07823883433639534\n0.012345679012345734\n0.24421437271619972\n0.00946870068385064\n0.21465629053177693\n0.04761904761904767\n0.24301869374567275\n0.1791331031837361\n0.020586946999561984\n0.5177055896985661\n0.009292929292929242\n0.21566861773975687\n0.07029812292970183\n0.0028142589118198558\n0.03727246460560529\n0\n0.2572614107883817\n0.029911624745071363\n0.47994825355756787\n0.14372855508959204\n0.0412051395657953\n0.00036271309394264595\n0.003079291762894565\n0.7600440286186021\n0.014351475764960764\n1.1719942256135285\n0.003548387096774186\n0.10803571428571423\n0.061249615266235735\n0.18752908329455564\n0\n0.4410377358490566\n0.20554550934297766\n0.020198974977389206\n0.5846514352665495\n0.6912621359223301\n0.25831622176591373\n0.02161694768698663\n0.6740331491712708\n0.2008676789587852\n0.0028985507246376274\n0.2147344374643061\n0.002159827213822907\n0.7172342621259029\n0.10467222021006883\n0.2690863579474343\n0.23533149756407545\n0.7710776102735901\n1.2256509161041467\n0.3501827040194885\n0.4173134328358209\n0.04969485614646907\n0.05442804428044279\n0.19220999153259954\n0.3012875536480687\n0.1268264172998247\n0.31753554502369663\n0.30977570884468897\n0.2047619047619048\n0.4731481481481481\n1.2240132258731142\n0.25170998632010944\n0.04732394366197179\n0.08270676691729328\n0.036743923120406974\n0\n0.04690743046907431\n0.7275541795665634\n0.09953800923981515\n0.35004248088360235\n0.09677419354838712\n0.4452954048140044\n0.03296703296703296\n0.1016311166875784\n0.09171861086375777\n0.33526850507982586\n0.26202158979391565\n0.28057553956834536\n0.0029325513196480912\n0.0024038461538461453\n0.0494505494505495\n0.24866105585309872\n0.050057537399309515\n0.02218198279764594\n0.14445399828030958\n0.1162102146558105\n0.08865468071915683\n0.11592632719393281\n0.4623122502411465\n0.16985718626557278\n0.04806201550387601\n0.09433962264150941\n0.32384497481935626\n0.012686567164179152\n0.005880318228986492\n0.016695957820738183\n0.3351126927639383\n0.13424657534246576\n0.9574468085106383\n0.058064516129032295\n0.010673234811165888\n0.03052182474565146\n0.38327526132404177\n0.7489507821442198\n0.19650655021834063\n0.053147996729354\n0.4005616543272913\n0.22554144884241967\n0.08310700706137963\n0.5063357972544879\n0.48460291734197736\n0\n0.07954062101233517\n0.34519572953736655\n0.03141831238779169\n0.0462062256809338\n0.10872894333843797\n0.015404364569961526\n0.0031319910514541194\n0.6068122917437986\n0.156498673740053\n0.020000000000000018\n0.09689408016989642\n0.12278928751894902\n"
    }
   ],
   "source": [
    "# for all the abstracts under study\n",
    "for i in range(1,len(change_in_abst_length)+1):\n",
    "    # if we have at least 1 trackchanged detected (otherwise the two abstracts are identical, so the changeratio is 0)\n",
    "    if str(i) in abstract_changecount:\n",
    "\n",
    "        change_len = abstract_changecount[str(i)]\n",
    "        inserted,deleted,moved = abstract_changetypes[str(i)][\"Inserted\"],abstract_changetypes[str(i)][\"Deleted\"],abstract_changetypes[str(i)][\"Moved\"]\n",
    "        \n",
    "        # here we obtain the len of the preprint and the final version\n",
    "        original,final = change_in_abst_length[i]\n",
    "        # and consequently we derive the len of identical characters\n",
    "        identical = final - inserted\n",
    "        \n",
    "        # if there is at least one change\n",
    "        if change_len != 0:\n",
    "            # we compute the changeratio as in difflib (see: https://docs.python.org/3/library/difflib.html#difflib.SequenceMatcher.ratio)\n",
    "            changeratio = 1.0 - ((2*identical)/(original+final))\n",
    "            print (changeratio)\n",
    "        else:\n",
    "            print (0)\n",
    "    else:\n",
    "        print (0)"
   ]
  },
  {
   "cell_type": "code",
   "execution_count": null,
   "metadata": {},
   "outputs": [],
   "source": []
  }
 ],
 "metadata": {
  "kernelspec": {
   "display_name": "Python 3",
   "language": "python",
   "name": "python3"
  },
  "language_info": {
   "codemirror_mode": {
    "name": "ipython",
    "version": 3
   },
   "file_extension": ".py",
   "mimetype": "text/x-python",
   "name": "python",
   "nbconvert_exporter": "python",
   "pygments_lexer": "ipython3",
   "version": "3.7.4"
  }
 },
 "nbformat": 4,
 "nbformat_minor": 4
}