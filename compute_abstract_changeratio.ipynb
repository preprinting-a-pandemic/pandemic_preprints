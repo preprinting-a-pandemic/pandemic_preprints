{
 "cells": [
  {
   "cell_type": "code",
   "execution_count": 1,
   "metadata": {},
   "outputs": [],
   "source": [
    "from collections import Counter\n",
    "import pandas as pd\n",
    "import difflib\n",
    "\n",
    "# import a spreadsheeet containing all preprints and final abstracts pairs\n",
    "df = pd.read_csv(\"all_pairs - old.tsv\", sep='\\t')\n",
    "\n",
    "change_in_abst_length = {}\n",
    "\n",
    "page = 1\n",
    "\n",
    "for index, row in df.iterrows():\n",
    "    # we skip abstracts that are not included in the MS Word track changes\n",
    "    # this is becausee some final abstracts are not available\n",
    "    if row[\"exclude\"] == \"keep\":\n",
    "        # removing all multiple whitespaces, line breaks, tabs\n",
    "        preprint_abstract = \" \".join(row[\"abstract\"].split())\n",
    "        final_abstract = \" \".join(row[\"published_pubmed_abstract\"].split())\n",
    "        len_preprint_abstract = len(preprint_abstract)\n",
    "        len_final_abstract = len(final_abstract)\n",
    "        # store the length of each abstract using the page number as an id\n",
    "        change_in_abst_length[page] = [len_preprint_abstract,len_final_abstract]\n",
    "        page+=1"
   ]
  },
  {
   "cell_type": "code",
   "execution_count": 2,
   "metadata": {},
   "outputs": [],
   "source": [
    "# open a .txt containing the extracted trackchanges from MS Word\n",
    "trackchange_doc = open(\"v1only_Compared_abstracts_2020-07-27.txt\",'r').read().strip().split(\"\\n\")\n",
    "\n",
    "beginning_of_change = []\n",
    "changes_abs_match = {}\n",
    "\n",
    "# first we find the starting line of each change\n",
    "for e in range(len(trackchange_doc)):\n",
    "    element = trackchange_doc[e].strip()\n",
    "    # so if the element is equal to Page\n",
    "    if element == \"Page\":\n",
    "        #  and there is a number + : in the next line\n",
    "        number = trackchange_doc[e+1].strip()\n",
    "        # we can presume it's the beginning of a new change\n",
    "        if \":\" == number[-1] and number[:-1].isnumeric():\n",
    "            # so we append the id and to which page this id refers to\n",
    "            # removing the \":\" at the end of the line\n",
    "            beginning_of_change.append(e)\n",
    "            changes_abs_match[e] = number[:-1]"
   ]
  },
  {
   "cell_type": "code",
   "execution_count": null,
   "metadata": {},
   "outputs": [],
   "source": []
  },
  {
   "cell_type": "code",
   "execution_count": 3,
   "metadata": {
    "tags": []
   },
   "outputs": [
    {
     "name": "stdout",
     "output_type": "stream",
     "text": [
      "22 {'Inserted': 13, 'Deleted': 9, 'Moved': 0}\n"
     ]
    }
   ],
   "source": [
    "# we create two dictionaries where we set to 0 the change counter to each page\n",
    "abstract_changecount = {y:0 for x,y in changes_abs_match.items()}\n",
    "abstract_changetypes = {y:{'Inserted': 0, 'Deleted': 0, 'Moved': 0} for x,y in changes_abs_match.items()}\n",
    "\n",
    "# for each change, we know to which abstract (i.e., page) it belongs \n",
    "for c in range(len(beginning_of_change)):\n",
    "    change = beginning_of_change[c]\n",
    "    abstract_id = changes_abs_match[change]\n",
    "    # here we know where to stop, at the beginning of the next change (or at the end of the doc)\n",
    "    if c+1 < len(beginning_of_change):\n",
    "        nextchange = beginning_of_change[c+1]\n",
    "    else:\n",
    "        nextchange = len(beginning_of_change)\n",
    "    # change+8 is in order to skip all metadata and whitespacees, \n",
    "    #like hour, username etc that are always the same length\n",
    "    words = [trackchange_doc[x] for x in range(change+8,nextchange) if len(trackchange_doc[x])>0]\n",
    "    words = \" \".join(words).strip()\n",
    "\n",
    "    # this is the type of change (addition, deletion, move)\n",
    "    typechange = trackchange_doc[change+2].strip()\n",
    "    abstract_changetypes[abstract_id][typechange] +=len(words)\n",
    "\n",
    "    # we currently ignore moved from the overall count\n",
    "    if typechange != \"Moved\":\n",
    "        abstract_changecount[abstract_id]+=len(words)\n",
    "    \n",
    "# here an example\n",
    "print (abstract_changecount[\"180\"],abstract_changetypes[\"180\"])"
   ]
  },
  {
   "cell_type": "code",
   "execution_count": 4,
   "metadata": {
    "tags": []
   },
   "outputs": [],
   "source": [
    "# we open a txt where to store the scores\n",
    "out = open(\"changeratio.txt\",\"w\")\n",
    "\n",
    "# for all the abstracts under study\n",
    "for i in range(1,len(change_in_abst_length)+1):\n",
    "    # if we have at least 1 trackchanged detected (otherwise the two abstracts are identical, so the changeratio is 0)\n",
    "    if str(i) in abstract_changecount:\n",
    "\n",
    "        change_len = abstract_changecount[str(i)]\n",
    "        inserted,deleted,moved = abstract_changetypes[str(i)][\"Inserted\"],abstract_changetypes[str(i)][\"Deleted\"],abstract_changetypes[str(i)][\"Moved\"]\n",
    "        \n",
    "        # here we obtain the len of the preprint and the final version\n",
    "        original,final = change_in_abst_length[i]\n",
    "        # and consequently we derive the len of identical characters\n",
    "        identical = final - inserted\n",
    "        \n",
    "        # if there is at least one change\n",
    "        if change_len != 0:\n",
    "            # we compute the changeratio as in difflib (see: https://docs.python.org/3/library/difflib.html#difflib.SequenceMatcher.ratio)\n",
    "            changeratio = 1.0 - ((2*identical)/(original+final))\n",
    "            out.write(str(changeratio)+\"\\n\")\n",
    "        else:\n",
    "            out.write(\"0\\n\")\n",
    "    else:\n",
    "        out.write(\"0\\n\")\n",
    "out.close()"
   ]
  },
  {
   "cell_type": "code",
   "execution_count": 5,
   "metadata": {},
   "outputs": [],
   "source": [
    "out = open(\"difflib_changeratio.txt\",\"w\")\n",
    "\n",
    "for index, row in df.iterrows():\n",
    "    # we skip abstracts that are not included in the MS Word track changes\n",
    "    # this is becausee some final abstracts are not available\n",
    "    if row[\"exclude\"] == \"keep\":\n",
    "        # removing all multiple whitespaces, line breaks, tabs\n",
    "        preprint_abstract = \" \".join(row[\"abstract\"].split())\n",
    "        final_abstract = \" \".join(row[\"published_pubmed_abstract\"].split())\n",
    "        # computing the change ratio using difflib\n",
    "        seqm = difflib.SequenceMatcher(None, preprint_abstract, final_abstract)\n",
    "        ratio = float(1.0 - seqm.ratio())\n",
    "        out.write(str(ratio)+\"\\n\")\n",
    "out.close()"
   ]
  }
 ],
 "metadata": {
  "kernelspec": {
   "display_name": "Python 3",
   "language": "python",
   "name": "python3"
  },
  "language_info": {
   "codemirror_mode": {
    "name": "ipython",
    "version": 3
   },
   "file_extension": ".py",
   "mimetype": "text/x-python",
   "name": "python",
   "nbconvert_exporter": "python",
   "pygments_lexer": "ipython3",
   "version": "3.7.4"
  }
 },
 "nbformat": 4,
 "nbformat_minor": 4
}
